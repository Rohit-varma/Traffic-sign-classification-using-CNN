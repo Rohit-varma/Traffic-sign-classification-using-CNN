{
 "cells": [
  {
   "cell_type": "code",
   "execution_count": null,
   "metadata": {},
   "outputs": [],
   "source": [
    "import matplotlib.pyplot as plt\n",
    "import numpy as np\n",
    "import tensorflow as tf\n",
    "import pandas as pd\n",
    "import seaborn as sns\n",
    "import pickle\n",
    "import random"
   ]
  },
  {
   "cell_type": "code",
   "execution_count": null,
   "metadata": {},
   "outputs": [],
   "source": [
    "x=np.linspace(0,2*np.pi,400)\n",
    "y=np.sin(x**2)"
   ]
  },
  {
   "cell_type": "code",
   "execution_count": null,
   "metadata": {},
   "outputs": [],
   "source": [
    "fig,axes=plt.subplots(2,1)\n",
    "fig.suptitle(\"Testiing plots\")\n",
    "axes[0].plot(x,y)\n",
    "axes[1].plot(-x,-y)"
   ]
  },
  {
   "cell_type": "code",
   "execution_count": null,
   "metadata": {},
   "outputs": [],
   "source": [
    "# Loading the dataset"
   ]
  },
  {
   "cell_type": "code",
   "execution_count": null,
   "metadata": {},
   "outputs": [],
   "source": [
    "with open(\"./traffic-signs-data/train.p\", mode='rb') as training_data:\n",
    "    train = pickle.load(training_data)\n",
    "with open(\"./traffic-signs-data/valid.p\", mode='rb') as validation_data:\n",
    "    valid = pickle.load(validation_data)\n",
    "with open(\"./traffic-signs-data/test.p\", mode='rb') as testing_data:\n",
    "    test = pickle.load(testing_data)"
   ]
  },
  {
   "cell_type": "code",
   "execution_count": null,
   "metadata": {},
   "outputs": [],
   "source": [
    "type(train) //dict"
   ]
  },
  {
   "cell_type": "code",
   "execution_count": null,
   "metadata": {},
   "outputs": [],
   "source": [
    "x_train,y_train=train[\"features\"],train[\"labels\"]"
   ]
  },
  {
   "cell_type": "code",
   "execution_count": null,
   "metadata": {},
   "outputs": [],
   "source": [
    "x_valid,y_valid=valid[\"features\"],valid[\"labels\"]"
   ]
  },
  {
   "cell_type": "code",
   "execution_count": null,
   "metadata": {},
   "outputs": [],
   "source": [
    "x_test,y_test=test[\"features\"],test[\"labels\"]"
   ]
  },
  {
   "cell_type": "code",
   "execution_count": null,
   "metadata": {},
   "outputs": [],
   "source": [
    "i = np.random.randint(1, len(x_train))\n",
    "plt.imshow(x_train[i])\n",
    "y_train[i]"
   ]
  },
  {
   "cell_type": "code",
   "execution_count": null,
   "metadata": {},
   "outputs": [],
   "source": [
    "# Let's view more images in a grid format\n",
    "# Define the dimensions of the plot grid \n",
    "W_grid = 8\n",
    "L_grid = 8\n",
    "\n",
    "# fig, axes = plt.subplots(L_grid, W_grid)\n",
    "# subplot return the figure object and axes object\n",
    "# we can use the axes object to plot specific figures at various locations\n",
    "\n",
    "fig, axes = plt.subplots(L_grid, W_grid, figsize = (10,10))\n",
    "\n",
    "axes = axes.ravel() # flaten the 5 x 5 matrix into 25 array\n",
    "\n",
    "n_training = len(x_train) # get the length of the training dataset\n",
    "\n",
    "# Select a random number from 0 to n_training\n",
    "# create evenly spaces variables \n",
    "for i in np.arange(0,L_grid*W_grid):\n",
    "    index=np.random.randint(0,n_training)\n",
    "    axes[i].imshow(x_train[index])\n",
    "    axes[i].set_title(y_train[index],fontsize=15)\n",
    "    axes[i].axis(\"off\")\n",
    "plt.subplots_adjust(hspace=0.4) #to make spacing between the plots"
   ]
  },
  {
   "cell_type": "code",
   "execution_count": null,
   "metadata": {},
   "outputs": [],
   "source": []
  },
  {
   "cell_type": "code",
   "execution_count": null,
   "metadata": {},
   "outputs": [],
   "source": [
    "from sklearn.utils import shuffle\n",
    "x_train, y_train = shuffle(x_train, y_train)"
   ]
  },
  {
   "cell_type": "code",
   "execution_count": null,
   "metadata": {},
   "outputs": [],
   "source": [
    "x_train_gray=np.sum(x_train/3,axis=3,keepdims=True)\n",
    "x_test_gray=np.sum(x_test/3,axis=3,keepdims=True)\n",
    "x_valid_gray=np.sum(x_valid/3,axis=3,keepdims=True)"
   ]
  },
  {
   "cell_type": "code",
   "execution_count": null,
   "metadata": {},
   "outputs": [],
   "source": [
    "#x_train_gray.shape"
   ]
  },
  {
   "cell_type": "code",
   "execution_count": null,
   "metadata": {},
   "outputs": [],
   "source": [
    "#normalizing the data\n",
    "x_train_gray_norm=(x_train_gray-128)/128\n",
    "x_valid_gray_norm=(x_valid_gray-128)/128\n",
    "x_test_gray_norm=(x_test_gray-128)/128"
   ]
  },
  {
   "cell_type": "code",
   "execution_count": null,
   "metadata": {},
   "outputs": [],
   "source": [
    "x_train_gray_norm"
   ]
  },
  {
   "cell_type": "code",
   "execution_count": null,
   "metadata": {},
   "outputs": [],
   "source": [
    "i = random.randint(1, len(X_train_gray))\n",
    "plt.imshow(X_train_gray[i].squeeze(), cmap = 'gray')\n",
    "plt.figure()\n",
    "plt.imshow(X_train[i])\n",
    "plt.figure()\n",
    "plt.imshow(X_train_gray_norm[i].squeeze(), cmap = 'gray')"
   ]
  },
  {
   "cell_type": "code",
   "execution_count": null,
   "metadata": {},
   "outputs": [],
   "source": [
    "from tensorflow.keras import datasets, layers, models\n",
    "\n",
    "CNN=models.Sequential()\n",
    "CNN.add(layers.Conv2D(6,(5,5)),activation=\"relu\",input_shape=(32,32,1))\n",
    "CNN.add(layers.AveragePooling2D())\n",
    "CNN.add(layers.Dropout(0.2))\n",
    "CNN.add(layers.Conv2D(16,(5,5)),activation=\"relu\",input_shape=)\n",
    "CNN.add(layers.Flatten())\n",
    "CNN.add(layers.Dense(120,activation=\"relu\"))\n",
    "CNN.add(layers.Dense(84,activation=\"relu\"))\n",
    "CNN.add(layers.Dense(43,activation=\"softmax\"))\n",
    "CNN.summary()"
   ]
  },
  {
   "cell_type": "code",
   "execution_count": null,
   "metadata": {},
   "outputs": [],
   "source": [
    "CNN.compile(optimizer=\"Adam\",loss=\"sparse_categorical_crossentropy\",metrics=[\"accuracy\"])\n",
    "\n",
    "history=CNN.fit(x_train_gray_norm,y_train,batch_size=500,epochs=5,verbose=1,validation_data=(x_valid_gray_norm,y_valid))"
   ]
  },
  {
   "cell_type": "code",
   "execution_count": null,
   "metadata": {},
   "outputs": [],
   "source": [
    "predicted_classes = CNN.predict_classes(X_test_gray_norm)\n",
    "y_true = y_test\n",
    "\n",
    "from sklearn.metrics import confusion_matrix\n",
    "cm = confusion_matrix(y_true, predicted_classes)\n",
    "plt.figure(figsize = (25, 25))\n",
    "sns.heatmap(cm, annot = True)"
   ]
  },
  {
   "cell_type": "code",
   "execution_count": null,
   "metadata": {},
   "outputs": [],
   "source": [
    "L = 5\n",
    "W = 5\n",
    "\n",
    "fig, axes = plt.subplots(L, W, figsize = (12, 12))\n",
    "axes = axes.ravel()\n",
    "\n",
    "for i in np.arange(0, L*W):\n",
    "    axes[i].imshow(X_test[i])\n",
    "    axes[i].set_title('Prediction = {}\\n True = {}'.format(predicted_classes[i], y_true[i]))\n",
    "    axes[i].axis('off')\n",
    "\n",
    "plt.subplots_adjust(wspace = 1)   "
   ]
  },
  {
   "cell_type": "code",
   "execution_count": null,
   "metadata": {},
   "outputs": [],
   "source": [
    "\"\"\"Classes are as listed below:\n",
    "\n",
    "0 = Speed limit (20km/h)\n",
    "1 = Speed limit (30km/h)\n",
    "2 = Speed limit (50km/h)\n",
    "3 = Speed limit (60km/h)\n",
    "4 = Speed limit (70km/h)\n",
    "5 = Speed limit (80km/h)\n",
    "6 = End of speed limit (80km/h)\n",
    "7 = Speed limit (100km/h)\n",
    "8 = Speed limit (120km/h)\n",
    "9 = No passing\n",
    "10 = No passing for vehicles over 3.5 metric tons\n",
    "11 = Right-of-way at the next intersection\n",
    "12 = Priority road\n",
    "13 = Yield\n",
    "14 = Stop\n",
    "15 = No vehicles\n",
    "16 = Vehicles over 3.5 metric tons prohibited\n",
    "17 = No entry\n",
    "18 = General caution\n",
    "19 = Dangerous curve to the left\n",
    "20 = Dangerous curve to the right\n",
    "21 = Double curve\n",
    "22 = Bumpy road\n",
    "23 = Slippery road\n",
    "24 = Road narrows on the right\n",
    "25 = Road work\n",
    "26 = Traffic signals\n",
    "27 = Pedestrians\n",
    "28 = Children crossing\n",
    "29 = Bicycles crossing\n",
    "30 = Beware of ice/snow\n",
    "31 = Wild animals crossing\n",
    "32 = End of all speed and passing limits\n",
    "33 = Turn right ahead\n",
    "34 = Turn left ahead\n",
    "35 = Ahead only\n",
    "36 = Go straight or right\n",
    "37 = Go straight or left\n",
    "38 = Keep right\n",
    "39 = Keep left\n",
    "40 = Roundabout mandatory\n",
    "41 = End of no passing\n",
    "42 = End of no passing by vehicles over 3.5 metric tons \"\"\""
   ]
  },
  {
   "cell_type": "code",
   "execution_count": null,
   "metadata": {},
   "outputs": [],
   "source": []
  }
 ],
 "metadata": {
  "kernelspec": {
   "display_name": "Python 3",
   "language": "python",
   "name": "python3"
  },
  "language_info": {
   "codemirror_mode": {
    "name": "ipython",
    "version": 3
   },
   "file_extension": ".py",
   "mimetype": "text/x-python",
   "name": "python",
   "nbconvert_exporter": "python",
   "pygments_lexer": "ipython3",
   "version": "3.7.6"
  }
 },
 "nbformat": 4,
 "nbformat_minor": 4
}
